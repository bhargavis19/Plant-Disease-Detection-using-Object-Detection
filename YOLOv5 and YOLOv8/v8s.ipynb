{
 "cells": [
  {
   "cell_type": "code",
   "execution_count": 1,
   "id": "b75b4999-9773-4410-8cfe-45891e2f7e8b",
   "metadata": {},
   "outputs": [
    {
     "name": "stdout",
     "output_type": "stream",
     "text": [
      "D:\\Computer Vision\\Dataset\n"
     ]
    }
   ],
   "source": [
    "import os\n",
    "HOME = os.getcwd()\n",
    "print(HOME)"
   ]
  },
  {
   "cell_type": "code",
   "execution_count": 2,
   "id": "2170b19d-26dd-47f2-981a-e3fc2def979d",
   "metadata": {},
   "outputs": [],
   "source": [
    "os.chdir('D:/Computer Vision/Dataset')"
   ]
  },
  {
   "cell_type": "code",
   "execution_count": 3,
   "id": "a2c6fb5d-f4d6-4e56-9620-d924e9d274d7",
   "metadata": {},
   "outputs": [
    {
     "name": "stdout",
     "output_type": "stream",
     "text": [
      "Ultralytics YOLOv8.1.26 🚀 Python-3.11.6 torch-2.2.1+cu121 CUDA:0 (NVIDIA GeForce RTX 3060 Laptop GPU, 6144MiB)\n",
      "Setup complete ✅ (16 CPUs, 15.9 GB RAM, 299.3/391.9 GB disk)\n"
     ]
    }
   ],
   "source": [
    "from IPython import display\n",
    "display.clear_output()\n",
    "\n",
    "import ultralytics\n",
    "ultralytics.checks()"
   ]
  },
  {
   "cell_type": "code",
   "execution_count": null,
   "id": "c7cfa74f-9db1-4c41-bd15-69d74a0ccf4a",
   "metadata": {},
   "outputs": [],
   "source": [
    "!yolo task=detect mode=train model=yolov8s.pt data=data.yaml epochs=100 imgsz=256 device=0"
   ]
  },
  {
   "cell_type": "code",
   "execution_count": null,
   "id": "f70772a5-4279-45b0-be8b-67e0efb93dc9",
   "metadata": {},
   "outputs": [],
   "source": [
    "!yolo task=detect mode=val model=runs/detect/train4/weights/best.pt data=data.yaml"
   ]
  }
 ],
 "metadata": {
  "kernelspec": {
   "display_name": "Python 3 (ipykernel)",
   "language": "python",
   "name": "python3"
  },
  "language_info": {
   "codemirror_mode": {
    "name": "ipython",
    "version": 3
   },
   "file_extension": ".py",
   "mimetype": "text/x-python",
   "name": "python",
   "nbconvert_exporter": "python",
   "pygments_lexer": "ipython3",
   "version": "3.11.6"
  }
 },
 "nbformat": 4,
 "nbformat_minor": 5
}
